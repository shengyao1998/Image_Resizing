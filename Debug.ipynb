{
 "cells": [
  {
   "cell_type": "code",
   "execution_count": 1,
   "metadata": {},
   "outputs": [],
   "source": [
    "import sys\n",
    "import os\n",
    "import cv2\n",
    "import numpy as np\n",
    "import matplotlib.pyplot as plt\n",
    "from os import listdir"
   ]
  },
  {
   "cell_type": "code",
   "execution_count": 10,
   "metadata": {},
   "outputs": [],
   "source": [
    "def file_input():\n",
    "    folder_dir = \"C:/Users/splc2020/Desktop/Project/PC Project/Python_Project/Image_Resizing\"\n",
    "\n",
    "    for images in os.listdir(folder_dir):\n",
    "        if (images.endswith(\".png\") or images.endswith(\".jpg\") or images.endswith(\".jpeg\")):\n",
    "            img = cv2.imread(images)\n",
    "            print (images)\n",
    "        if images == 0:\n",
    "            sys.exit(\"Could not found the image, please check the file path again.\")"
   ]
  },
  {
   "cell_type": "code",
   "execution_count": null,
   "metadata": {},
   "outputs": [],
   "source": []
  }
 ],
 "metadata": {
  "interpreter": {
   "hash": "ef4267ac304d09e732f85d8dd33b07536529f15676d8ea6d0224e1f269a1b5cd"
  },
  "kernelspec": {
   "display_name": "Python 3.8.13 ('Img_Resize')",
   "language": "python",
   "name": "python3"
  },
  "language_info": {
   "codemirror_mode": {
    "name": "ipython",
    "version": 3
   },
   "file_extension": ".py",
   "mimetype": "text/x-python",
   "name": "python",
   "nbconvert_exporter": "python",
   "pygments_lexer": "ipython3",
   "version": "3.8.13"
  },
  "orig_nbformat": 4
 },
 "nbformat": 4,
 "nbformat_minor": 2
}
