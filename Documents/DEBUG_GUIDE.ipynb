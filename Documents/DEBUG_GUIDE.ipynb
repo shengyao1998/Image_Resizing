{
 "cells": [
  {
   "cell_type": "markdown",
   "metadata": {},
   "source": [
    "# DEBUG GUIDE\n",
    "DEBUG GUIDE Template Ver.   : Ver. 1.1<br>\n",
    "Last Modified Date          : 28 Oct 2022"
   ]
  },
  {
   "cell_type": "markdown",
   "metadata": {},
   "source": [
    "# DEBUGGING Catolog\n",
    "1. Debug 1\n",
    "2. ...\n",
    "3. ...\n",
    "4. ..."
   ]
  },
  {
   "cell_type": "markdown",
   "metadata": {},
   "source": [
    "# DEBUG CATOLOG\n",
    "\n",
    "-----------------------------------------\n",
    "### Problems\n",
    "    import cv2 as cv\n",
    "ModuleNotFoundError: No module named 'cv2'\n",
    "\n",
    "### Solution\n",
    "    conda install -c conda-forge opencv\n",
    "\n",
    "\n",
    "-----------------------------------------"
   ]
  }
 ],
 "metadata": {
  "language_info": {
   "name": "python"
  },
  "orig_nbformat": 4
 },
 "nbformat": 4,
 "nbformat_minor": 2
}
