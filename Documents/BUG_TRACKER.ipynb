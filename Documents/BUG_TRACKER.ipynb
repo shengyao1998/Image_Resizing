{
 "cells": [
  {
   "cell_type": "markdown",
   "metadata": {},
   "source": [
    "# Template Version\n",
    "README Template Ver.        : Ver. 1.1\n",
    "Last Modified Date          : 28 Oct 2022"
   ]
  },
  {
   "cell_type": "markdown",
   "metadata": {},
   "source": [
    "\n",
    "# Bug Tracker Catolog\n",
    "1. ...\n",
    "2. ...\n",
    "3. ...\n",
    "4. ..."
   ]
  },
  {
   "cell_type": "markdown",
   "metadata": {},
   "source": [
    "| Bug Number         |                         |\n",
    "|--------------------|-------------------------|\n",
    "| Feature Name       |                         |\n",
    "| Status             |                         |\n",
    "{| Steps to Reproduce | 1. TEsting<br> 2. Teistn|\n"},
    "| Expected Results   |                         |\n",
    "| Actual Results     |                         |\n",
    "| Visual Aids        |                         |\n",
    "| Severity           |                         |\n",
    "| Status             |                         |\n",
    "| Discovered By      |                         |\n",
    "| Discovered Date    |                         |\n",
    "| Program Version    |                         |\n",
    "| Console            |                         |"
   ]
  }
 ],
 "metadata": {
  "language_info": {
   "name": "python"
  },
  "orig_nbformat": 4
 },
 "nbformat": 4,
 "nbformat_minor": 2
}
